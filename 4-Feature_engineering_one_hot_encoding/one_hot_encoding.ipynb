{
 "cells": [
  {
   "attachments": {},
   "cell_type": "markdown",
   "metadata": {},
   "source": [
    "# One-Hot Encoding"
   ]
  },
  {
   "cell_type": "code",
   "execution_count": 1,
   "metadata": {},
   "outputs": [],
   "source": [
    "from nltk.tokenize import word_tokenize, sent_tokenize\n",
    "from string import punctuation\n",
    "\n",
    "mytext = '''Dog bites man.\n",
    "            Man bites dog.\n",
    "            Dog eats meat.\n",
    "            Man eats food.'''"
   ]
  },
  {
   "cell_type": "code",
   "execution_count": 2,
   "metadata": {},
   "outputs": [],
   "source": [
    "def pre_process(sentence):\n",
    "    return \" \".join(word.lower() for word in word_tokenize(sentence) if word not in punctuation)"
   ]
  },
  {
   "cell_type": "code",
   "execution_count": 3,
   "metadata": {},
   "outputs": [
    {
     "data": {
      "text/plain": [
       "['learning', 'nlp', 'is', 'really', 'fun']"
      ]
     },
     "execution_count": 3,
     "metadata": {},
     "output_type": "execute_result"
    }
   ],
   "source": [
    "word_tokenize(pre_process(\"Learning NLP is really fun.\"))"
   ]
  },
  {
   "cell_type": "code",
   "execution_count": 6,
   "metadata": {},
   "outputs": [],
   "source": [
    "# create a vocab as a list of words in the input text\n",
    "def get_vocab(text):\n",
    "    vocab = {}\n",
    "    my_sentences = sent_tokenize(text)\n",
    "    for sentence in my_sentences:\n",
    "        tokens = word_tokenize(pre_process(sentence))\n",
    "        for token in tokens:\n",
    "            if token not in vocab.keys():\n",
    "                vocab[token] = len(vocab)\n",
    "    return vocab"
   ]
  },
  {
   "cell_type": "code",
   "execution_count": 9,
   "metadata": {},
   "outputs": [
    {
     "name": "stdout",
     "output_type": "stream",
     "text": [
      "{'dog': 0, 'bites': 1, 'man': 2, 'eats': 3, 'meat': 4, 'food': 5}\n"
     ]
    }
   ],
   "source": [
    "myVocab = get_vocab(mytext)\n",
    "print(myVocab)"
   ]
  },
  {
   "cell_type": "code",
   "execution_count": 10,
   "metadata": {},
   "outputs": [
    {
     "name": "stdout",
     "output_type": "stream",
     "text": [
      "[0, 0, 0, 0, 0, 0]\n"
     ]
    }
   ],
   "source": [
    "temp = [0] * len(myVocab)\n",
    "print(temp)"
   ]
  },
  {
   "cell_type": "code",
   "execution_count": 11,
   "metadata": {},
   "outputs": [],
   "source": [
    "# create one-hot encoding\n",
    "def get_one_hot_encoding(vocab, sentence):\n",
    "    one_hot_encoding = []\n",
    "    for word in word_tokenize(pre_process(sentence)):\n",
    "        temp = [0] * len(vocab)\n",
    "        if word in vocab.keys():\n",
    "            temp[vocab[word]] = 1\n",
    "        one_hot_encoding.append(temp)\n",
    "    print(sentence, \"==> One-hot encoding: \", one_hot_encoding)"
   ]
  },
  {
   "cell_type": "code",
   "execution_count": 12,
   "metadata": {},
   "outputs": [
    {
     "name": "stdout",
     "output_type": "stream",
     "text": [
      "dog ==> One-hot encoding:  [[1, 0, 0, 0, 0, 0]]\n"
     ]
    }
   ],
   "source": [
    "get_one_hot_encoding(myVocab, \"dog\")"
   ]
  },
  {
   "cell_type": "code",
   "execution_count": 13,
   "metadata": {},
   "outputs": [
    {
     "name": "stdout",
     "output_type": "stream",
     "text": [
      "Dog bites man. ==> One-hot encoding:  [[1, 0, 0, 0, 0, 0], [0, 1, 0, 0, 0, 0], [0, 0, 1, 0, 0, 0]]\n"
     ]
    }
   ],
   "source": [
    "get_one_hot_encoding(myVocab, \"Dog bites man.\")"
   ]
  },
  {
   "cell_type": "code",
   "execution_count": 14,
   "metadata": {},
   "outputs": [
    {
     "name": "stdout",
     "output_type": "stream",
     "text": [
      "Man runs after the dog. ==> One-hot encoding:  [[0, 0, 1, 0, 0, 0], [0, 0, 0, 0, 0, 0], [0, 0, 0, 0, 0, 0], [0, 0, 0, 0, 0, 0], [1, 0, 0, 0, 0, 0]]\n"
     ]
    }
   ],
   "source": [
    "get_one_hot_encoding(myVocab, \"Man runs after the dog.\")"
   ]
  },
  {
   "attachments": {},
   "cell_type": "markdown",
   "metadata": {},
   "source": [
    "# One-hot-encoding using scikit-learn"
   ]
  },
  {
   "cell_type": "code",
   "execution_count": 17,
   "metadata": {},
   "outputs": [],
   "source": [
    "S1 = \"dog bites man\"\n",
    "S2 = \"man bites dog\"\n",
    "S3 = \"dog eats meat\"\n",
    "S4 = \"man eats food\""
   ]
  },
  {
   "cell_type": "code",
   "execution_count": 20,
   "metadata": {},
   "outputs": [
    {
     "name": "stdout",
     "output_type": "stream",
     "text": [
      "The data:  ['dog', 'bites', 'man', 'man', 'bites', 'dog', 'dog', 'eats', 'meat', 'man', 'eats', 'food']\n",
      "Lable encoded: [1 0 4 4 0 1 1 2 5 4 2 3]\n",
      "One hot encoded: [[1. 0. 1. 0. 0. 0. 1. 0.]\n",
      " [0. 1. 1. 0. 1. 0. 0. 0.]\n",
      " [1. 0. 0. 1. 0. 0. 0. 1.]\n",
      " [0. 1. 0. 1. 0. 1. 0. 0.]]\n"
     ]
    }
   ],
   "source": [
    "from sklearn.preprocessing import OneHotEncoder, LabelEncoder\n",
    "\n",
    "data = [S1.split(), S2.split(), S3.split(), S4.split()]\n",
    "values = data[0] + data[1] + data[2] + data[3]\n",
    "print (\"The data: \", values)\n",
    "\n",
    "#Label Encoding\n",
    "lable_encoder = LabelEncoder()\n",
    "integer_encoded = lable_encoder.fit_transform(values)\n",
    "print(\"Lable encoded:\", integer_encoded)\n",
    "\n",
    "# OneHot Encoding\n",
    "onehot_encoder = OneHotEncoder()\n",
    "onehot_encoded = onehot_encoder.fit_transform(data).toarray()\n",
    "print(\"One hot encoded:\", onehot_encoded)\n"
   ]
  },
  {
   "cell_type": "code",
   "execution_count": null,
   "metadata": {},
   "outputs": [],
   "source": []
  }
 ],
 "metadata": {
  "kernelspec": {
   "display_name": "tweets",
   "language": "python",
   "name": "python3"
  },
  "language_info": {
   "codemirror_mode": {
    "name": "ipython",
    "version": 3
   },
   "file_extension": ".py",
   "mimetype": "text/x-python",
   "name": "python",
   "nbconvert_exporter": "python",
   "pygments_lexer": "ipython3",
   "version": "3.9.0"
  },
  "orig_nbformat": 4,
  "vscode": {
   "interpreter": {
    "hash": "3991fcc0ba5b8a22f24240a26cc8584a86e30514acea51337cb802bdfe7c9ab5"
   }
  }
 },
 "nbformat": 4,
 "nbformat_minor": 2
}
